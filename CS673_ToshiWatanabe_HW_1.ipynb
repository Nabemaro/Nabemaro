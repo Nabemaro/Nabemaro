{
 "cells": [
  {
   "cell_type": "code",
   "execution_count": 1,
   "id": "9457d0a4",
   "metadata": {},
   "outputs": [
    {
     "name": "stdout",
     "output_type": "stream",
     "text": [
      "Hello World\n"
     ]
    }
   ],
   "source": [
    "print('Hello World')"
   ]
  },
  {
   "cell_type": "code",
   "execution_count": 3,
   "id": "783f0ba1",
   "metadata": {},
   "outputs": [
    {
     "name": "stdout",
     "output_type": "stream",
     "text": [
      "   1   2   3   4   5   6   7   8   9  10  11  12\n",
      "   2   4   6   8  10  12  14  16  18  20  22  24\n",
      "   3   6   9  12  15  18  21  24  27  30  33  36\n",
      "   4   8  12  16  20  24  28  32  36  40  44  48\n",
      "   5  10  15  20  25  30  35  40  45  50  55  60\n",
      "   6  12  18  24  30  36  42  48  54  60  66  72\n",
      "   7  14  21  28  35  42  49  56  63  70  77  84\n",
      "   8  16  24  32  40  48  56  64  72  80  88  96\n",
      "   9  18  27  36  45  54  63  72  81  90  99 108\n",
      "  10  20  30  40  50  60  70  80  90 100 110 120\n",
      "  11  22  33  44  55  66  77  88  99 110 121 132\n",
      "  12  24  36  48  60  72  84  96 108 120 132 144\n"
     ]
    }
   ],
   "source": [
    "n = 12\n",
    "m = list(list(range(1 * i, (n + 1) * i, i)) for i in range(1, n + 1))\n",
    "max_width = len(str(m[-1][-1])) + 1\n",
    "for i in m:\n",
    "    i = [str(j).rjust(max_width) for j in i]\n",
    "    print(''.join(i))"
   ]
  },
  {
   "cell_type": "code",
   "execution_count": 4,
   "id": "9f5e9772",
   "metadata": {},
   "outputs": [
    {
     "name": "stdout",
     "output_type": "stream",
     "text": [
      "ZOOOOOZ  is a palindrome\n"
     ]
    }
   ],
   "source": [
    "def is_palindrome(x_str):\n",
    "  if x_str == x_str[:: -1]:\n",
    "    print(x_str, ' is a palindrome')\n",
    "  else:\n",
    "    print(x_str, ' is not a palindrome')\n",
    "\n",
    "\n",
    "is_palindrome(\"ZOOOOOZ\")"
   ]
  },
  {
   "cell_type": "code",
   "execution_count": 5,
   "id": "5e9f5d53",
   "metadata": {},
   "outputs": [
    {
     "name": "stdout",
     "output_type": "stream",
     "text": [
      "['a', 1, 'b', 2, 'c', 3]\n"
     ]
    }
   ],
   "source": [
    "def alternate_extract(list1, list2):\n",
    "    result = [None]*(len(list1)+len(list2))\n",
    "    result[::2] = list1\n",
    "    result[1::2] = list2\n",
    "    print(result)\n",
    "\n",
    "\n",
    "list1 = ['a', 'b', 'c']\n",
    "list2 = [1, 2, 3]\n",
    "\n",
    "alternate_extract(list1, list2)"
   ]
  },
  {
   "cell_type": "code",
   "execution_count": 6,
   "id": "6393d9b5",
   "metadata": {},
   "outputs": [
    {
     "name": "stdout",
     "output_type": "stream",
     "text": [
      "0\n",
      "1\n",
      "1\n",
      "2\n",
      "3\n",
      "5\n",
      "8\n",
      "13\n",
      "21\n",
      "34\n",
      "55\n",
      "89\n",
      "144\n",
      "233\n",
      "377\n",
      "610\n",
      "987\n",
      "1597\n",
      "2584\n",
      "4181\n",
      "6765\n",
      "10946\n",
      "17711\n",
      "28657\n",
      "46368\n",
      "75025\n",
      "121393\n",
      "196418\n",
      "317811\n",
      "514229\n",
      "832040\n",
      "1346269\n",
      "2178309\n",
      "3524578\n",
      "5702887\n",
      "9227465\n",
      "14930352\n",
      "24157817\n",
      "39088169\n",
      "63245986\n",
      "102334155\n",
      "165580141\n",
      "267914296\n",
      "433494437\n",
      "701408733\n",
      "1134903170\n",
      "1836311903\n",
      "2971215073\n",
      "4807526976\n",
      "7778742049\n",
      "12586269025\n",
      "20365011074\n",
      "32951280099\n",
      "53316291173\n",
      "86267571272\n",
      "139583862445\n",
      "225851433717\n",
      "365435296162\n",
      "591286729879\n",
      "956722026041\n",
      "1548008755920\n",
      "2504730781961\n",
      "4052739537881\n",
      "6557470319842\n",
      "10610209857723\n",
      "17167680177565\n",
      "27777890035288\n",
      "44945570212853\n",
      "72723460248141\n",
      "117669030460994\n",
      "190392490709135\n",
      "308061521170129\n",
      "498454011879264\n",
      "806515533049393\n",
      "1304969544928657\n",
      "2111485077978050\n",
      "3416454622906707\n",
      "5527939700884757\n",
      "8944394323791464\n",
      "14472334024676221\n",
      "23416728348467685\n",
      "37889062373143906\n",
      "61305790721611591\n",
      "99194853094755497\n",
      "160500643816367088\n",
      "259695496911122585\n",
      "420196140727489673\n",
      "679891637638612258\n",
      "1100087778366101931\n",
      "1779979416004714189\n",
      "2880067194370816120\n",
      "4660046610375530309\n",
      "7540113804746346429\n",
      "12200160415121876738\n",
      "19740274219868223167\n",
      "31940434634990099905\n",
      "51680708854858323072\n",
      "83621143489848422977\n",
      "135301852344706746049\n",
      "218922995834555169026\n"
     ]
    }
   ],
   "source": [
    "def fibonacci(num):\n",
    "    a, b = 0, 1\n",
    "    for i in range(num):\n",
    "        print(a)\n",
    "        a, b = a + b, a\n",
    "\n",
    "\n",
    "if __name__ == \"__main__\":\n",
    "  fibonacci(100)"
   ]
  },
  {
   "cell_type": "code",
   "execution_count": 7,
   "id": "fb23a380",
   "metadata": {},
   "outputs": [
    {
     "name": "stdout",
     "output_type": "stream",
     "text": [
      "1900 is a leap year: False\n",
      "2019 is a leap year: False\n",
      "2020 is a leap year: True\n",
      "2021 is a leap year: False\n",
      "2022 is a leap year: False\n",
      "2023 is a leap year: False\n",
      "2024 is a leap year: True\n",
      "2100 is a leap year: False\n",
      "2400 is a leap year: True\n"
     ]
    }
   ],
   "source": [
    "def is_leapyear(year):\n",
    "    return year % 4 == 0 and (year % 100 != 0 or year % 400 == 0)\n",
    "\n",
    "\n",
    "year_list = [1900, 2019, 2020, 2021, 2022, 2023, 2024, 2100, 2400]\n",
    "\n",
    "for year in year_list:\n",
    "    result = is_leapyear(year)\n",
    "    print(f'{year} is a leap year: {result}')"
   ]
  },
  {
   "cell_type": "code",
   "execution_count": null,
   "id": "01e0a8ed",
   "metadata": {},
   "outputs": [],
   "source": []
  }
 ],
 "metadata": {
  "kernelspec": {
   "display_name": "Python 3 (ipykernel)",
   "language": "python",
   "name": "python3"
  },
  "language_info": {
   "codemirror_mode": {
    "name": "ipython",
    "version": 3
   },
   "file_extension": ".py",
   "mimetype": "text/x-python",
   "name": "python",
   "nbconvert_exporter": "python",
   "pygments_lexer": "ipython3",
   "version": "3.9.13"
  }
 },
 "nbformat": 4,
 "nbformat_minor": 5
}
